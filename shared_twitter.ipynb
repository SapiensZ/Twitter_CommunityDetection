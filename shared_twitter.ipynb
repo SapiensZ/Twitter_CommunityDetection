{
 "cells": [
  {
   "cell_type": "code",
   "execution_count": 1,
   "metadata": {},
   "outputs": [],
   "source": [
    "import csv\n",
    "import pandas as pd\n",
    "import time\n",
    "import sys\n",
    "import itertools\n",
    "from datetime import datetime\n",
    "import sys\n",
    "import networkx as nx\n",
    "import plotly as py\n",
    "import plotly.graph_objects as go\n",
    "from plotly.graph_objs import *\n",
    "import matplotlib.pyplot as plt\n",
    "import scipy.sparse as sparse\n",
    "from scipy.stats.stats import pearsonr\n",
    "import community\n",
    "import matplotlib.cm as cm\n",
    "%matplotlib inline"
   ]
  },
  {
   "cell_type": "code",
   "execution_count": 2,
   "metadata": {},
   "outputs": [],
   "source": [
    "from sklearn.cluster import SpectralClustering\n",
    "from sklearn.cluster import KMeans"
   ]
  },
  {
   "cell_type": "code",
   "execution_count": 3,
   "metadata": {},
   "outputs": [],
   "source": [
    "from functions import *"
   ]
  },
  {
   "cell_type": "code",
   "execution_count": 6,
   "metadata": {},
   "outputs": [],
   "source": [
    "dates = ['2020-03-28', '2020-03-29', '2020-03-30', '2020-03-31',\n",
    "        '2020-04-01', '2020-04-02', '2020-04-03', '2020-04-04',\n",
    "        '2020-04-05', '2020-04-06', '2020-04-07', '2020-04-08',\n",
    "         '2020-04-09', '2020-04-10']\n",
    "#dates= ['2020-04-08', '2020-04-09']\n",
    "top_users_display = 10\n",
    "filter_by_top_cluster = True\n",
    "top_clusters_display=10\n",
    "param_subset=False\n",
    "param_n_subset=1000"
   ]
  },
  {
   "cell_type": "code",
   "execution_count": 33,
   "metadata": {},
   "outputs": [],
   "source": [
    "df_dict = load_folder_as_dict(dates, prefix='data/', subset=param_subset, n_subset=param_n_subset)\n",
    "#graph_dict = define_graphs(df_dict)"
   ]
  },
  {
   "cell_type": "code",
   "execution_count": 34,
   "metadata": {},
   "outputs": [],
   "source": [
    "#Returns a list of shared users from dictionnary of dataframes\n",
    "def get_common_users(df_dict):\n",
    "    l_common_users = []\n",
    "    set_common_users = set(df_dict[list(df_dict.keys())[0]].user_retweeted)\n",
    "    for key in list(df_dict.keys()):\n",
    "        set_df_i = set(df_dict[key].user_retweeted)\n",
    "        set_common_users = set.intersection(set_common_users, set_df_i)\n",
    "    return list(set_common_users)"
   ]
  },
  {
   "cell_type": "code",
   "execution_count": 35,
   "metadata": {},
   "outputs": [],
   "source": [
    "#Returns dictionnary of dataframe where retweeted users are shared to every dataframes\n",
    "def filter_dataframe_by_common_users(df_dict, l_common):\n",
    "    for key in list(df_dict.keys()):\n",
    "        df = df_dict[key]\n",
    "        df_filter = df[df.user_retweeted.isin(l_common)]\n",
    "        df_dict[key] = df_filter\n",
    "    return df_dict"
   ]
  },
  {
   "cell_type": "code",
   "execution_count": 36,
   "metadata": {},
   "outputs": [],
   "source": [
    "l_common = get_common_users(df_dict)\n",
    "df_dict = filter_dataframe_by_common_users(df_dict, l_common)"
   ]
  },
  {
   "cell_type": "code",
   "execution_count": null,
   "metadata": {},
   "outputs": [],
   "source": []
  },
  {
   "cell_type": "code",
   "execution_count": 14,
   "metadata": {},
   "outputs": [
    {
     "data": {
      "text/html": [
       "<div>\n",
       "<style scoped>\n",
       "    .dataframe tbody tr th:only-of-type {\n",
       "        vertical-align: middle;\n",
       "    }\n",
       "\n",
       "    .dataframe tbody tr th {\n",
       "        vertical-align: top;\n",
       "    }\n",
       "\n",
       "    .dataframe thead th {\n",
       "        text-align: right;\n",
       "    }\n",
       "</style>\n",
       "<table border=\"1\" class=\"dataframe\">\n",
       "  <thead>\n",
       "    <tr style=\"text-align: right;\">\n",
       "      <th></th>\n",
       "      <th>timestamp</th>\n",
       "      <th>username</th>\n",
       "      <th>count_rt</th>\n",
       "      <th>text</th>\n",
       "      <th>is_retweeted</th>\n",
       "      <th>user_retweeted</th>\n",
       "    </tr>\n",
       "  </thead>\n",
       "  <tbody>\n",
       "    <tr>\n",
       "      <td>0</td>\n",
       "      <td>2020-03-29 23:59:48</td>\n",
       "      <td>cgpdsbd</td>\n",
       "      <td>115</td>\n",
       "      <td>RT @parisvisites: Rare : On connaît la place C...</td>\n",
       "      <td>True</td>\n",
       "      <td>parisvisites</td>\n",
       "    </tr>\n",
       "    <tr>\n",
       "      <td>1</td>\n",
       "      <td>2020-03-29 23:59:18</td>\n",
       "      <td>MrFarag9</td>\n",
       "      <td>1835</td>\n",
       "      <td>RT @JacquieMichelX: 🇫🇷 ALERTE - [FILMS GRATUIT...</td>\n",
       "      <td>True</td>\n",
       "      <td>JacquieMichelX</td>\n",
       "    </tr>\n",
       "    <tr>\n",
       "      <td>2</td>\n",
       "      <td>2020-03-29 23:58:56</td>\n",
       "      <td>deogracia_974</td>\n",
       "      <td>688</td>\n",
       "      <td>RT @AllanBARTE: Manu a dit...\\n#ArgentMagique ...</td>\n",
       "      <td>True</td>\n",
       "      <td>AllanBARTE</td>\n",
       "    </tr>\n",
       "    <tr>\n",
       "      <td>3</td>\n",
       "      <td>2020-03-29 23:57:44</td>\n",
       "      <td>pige16</td>\n",
       "      <td>899</td>\n",
       "      <td>RT @30millionsdamis: Toute #chasse est désorma...</td>\n",
       "      <td>True</td>\n",
       "      <td>30millionsdamis</td>\n",
       "    </tr>\n",
       "    <tr>\n",
       "      <td>4</td>\n",
       "      <td>2020-03-29 23:56:31</td>\n",
       "      <td>alexandre3h33</td>\n",
       "      <td>1</td>\n",
       "      <td>RT @oliviabinisti: Encore une belle journée d’...</td>\n",
       "      <td>True</td>\n",
       "      <td>oliviabinisti</td>\n",
       "    </tr>\n",
       "  </tbody>\n",
       "</table>\n",
       "</div>"
      ],
      "text/plain": [
       "             timestamp       username  count_rt  \\\n",
       "0  2020-03-29 23:59:48        cgpdsbd       115   \n",
       "1  2020-03-29 23:59:18       MrFarag9      1835   \n",
       "2  2020-03-29 23:58:56  deogracia_974       688   \n",
       "3  2020-03-29 23:57:44         pige16       899   \n",
       "4  2020-03-29 23:56:31  alexandre3h33         1   \n",
       "\n",
       "                                                text  is_retweeted  \\\n",
       "0  RT @parisvisites: Rare : On connaît la place C...          True   \n",
       "1  RT @JacquieMichelX: 🇫🇷 ALERTE - [FILMS GRATUIT...          True   \n",
       "2  RT @AllanBARTE: Manu a dit...\\n#ArgentMagique ...          True   \n",
       "3  RT @30millionsdamis: Toute #chasse est désorma...          True   \n",
       "4  RT @oliviabinisti: Encore une belle journée d’...          True   \n",
       "\n",
       "    user_retweeted  \n",
       "0     parisvisites  \n",
       "1   JacquieMichelX  \n",
       "2       AllanBARTE  \n",
       "3  30millionsdamis  \n",
       "4    oliviabinisti  "
      ]
     },
     "execution_count": 14,
     "metadata": {},
     "output_type": "execute_result"
    }
   ],
   "source": [
    "df_2.head()"
   ]
  },
  {
   "cell_type": "code",
   "execution_count": null,
   "metadata": {
    "scrolled": false
   },
   "outputs": [],
   "source": [
    "if __name__=='__main__':\n",
    "    df_dict = load_folder_as_dict(dates, prefix='data/', subset=param_subset, n_subset=param_n_subset)\n",
    "    graph_dict = define_graphs(df_dict)\n",
    "    print('Range of dates:', dates)\n",
    "\n",
    "    for key in list(df_dict.keys()):\n",
    "        t1 = time.time()\n",
    "        print('Date: ', str(key).split('_')[-1])\n",
    "\n",
    "        df = df_dict[key]\n",
    "        G = graph_dict[key]\n",
    "\n",
    "        #Keep connected component\n",
    "        G, df = get_df_G_connected_comp(G, df)\n",
    "        G_und = G.to_undirected()\n",
    "\n",
    "        #define df_nodes\n",
    "        df_nodes = define_df_nodes(df, G)\n",
    "        #Reassign top cluster for a better display\n",
    "        if filter_by_top_cluster:\n",
    "            df_nodes = reassign_top_clusters(df_nodes, top_clusters=top_clusters_display)\n",
    "            df_nodes.loc[:, 'cluster_id'] = df_nodes.loc[:, 'new_cluster_id']\n",
    "        print(df_nodes.cluster_id.nunique())\n",
    "        print(df_nodes.new_cluster_id.nunique())\n",
    "        savename_nodes  = 'processed_data/nodes/' + str(key).split('_')[-1]+'_nodes.csv'\n",
    "        df_nodes.to_csv(savename_nodes,  encoding='utf-8')\n",
    "        \n",
    "        #define df_edges\n",
    "        df_edges = define_df_edges(df, G)\n",
    "        savename_edges  = 'processed_data/edges/' + str(key).split('_')[-1]+'_edges.csv'\n",
    "        df_edges.to_csv(savename_edges,  encoding='utf-8')\n",
    "\n",
    "        #compute and save figures according to clustering and (top) most important nodes\n",
    "        savename_clusters  = 'visualisation/clusters/' + str(key).split('_')[-1]+'_clusters'\n",
    "        vizualize_from_df(df_nodes, G_und, savename=savename_clusters)\n",
    "        savename_clusters  = 'visualisation/betweenness/' + str(key).split('_')[-1]+'_betweenness'\n",
    "        vizualize_from_df_betweenness(df_nodes, G_und, top=top_users_display ,savename=savename_clusters)\n",
    "        savename_clusters  = 'visualisation/closeness/' + str(key).split('_')[-1]+'_closeness'\n",
    "        vizualize_from_df_closeness(df_nodes, G_und, top=top_users_display ,savename=savename_clusters)\n",
    "        savename_clusters  = 'visualisation/pagerank/' + str(key).split('_')[-1]+'_pagerank'\n",
    "        vizualize_from_df_pagerank(df_nodes, G_und, top=top_users_display, savename=savename_clusters)\n",
    "        \n",
    "        t2 = time.time()\n",
    "        delta_t = t2-t1\n",
    "        print('Time taken (sec):', delta_t)\n"
   ]
  },
  {
   "cell_type": "code",
   "execution_count": null,
   "metadata": {},
   "outputs": [],
   "source": []
  }
 ],
 "metadata": {
  "kernelspec": {
   "display_name": "Python 3",
   "language": "python",
   "name": "python3"
  },
  "language_info": {
   "codemirror_mode": {
    "name": "ipython",
    "version": 3
   },
   "file_extension": ".py",
   "mimetype": "text/x-python",
   "name": "python",
   "nbconvert_exporter": "python",
   "pygments_lexer": "ipython3",
   "version": "3.7.6"
  }
 },
 "nbformat": 4,
 "nbformat_minor": 4
}
