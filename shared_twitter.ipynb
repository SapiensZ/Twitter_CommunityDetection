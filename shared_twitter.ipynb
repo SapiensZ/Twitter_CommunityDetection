{
 "cells": [
  {
   "cell_type": "code",
   "execution_count": 24,
   "metadata": {},
   "outputs": [],
   "source": [
    "import csv\n",
    "import pandas as pd\n",
    "import time\n",
    "import sys\n",
    "import itertools\n",
    "from datetime import datetime\n",
    "import sys\n",
    "import networkx as nx\n",
    "import plotly as py\n",
    "import plotly.graph_objects as go\n",
    "from plotly.graph_objs import *\n",
    "import matplotlib.pyplot as plt\n",
    "import scipy.sparse as sparse\n",
    "from scipy.stats.stats import pearsonr\n",
    "import community\n",
    "import matplotlib.cm as cm\n",
    "%matplotlib inline"
   ]
  },
  {
   "cell_type": "code",
   "execution_count": 25,
   "metadata": {},
   "outputs": [],
   "source": [
    "from sklearn.cluster import SpectralClustering\n",
    "from sklearn.cluster import KMeans"
   ]
  },
  {
   "cell_type": "code",
   "execution_count": 26,
   "metadata": {},
   "outputs": [],
   "source": [
    "from functions_test import *"
   ]
  },
  {
   "cell_type": "code",
   "execution_count": 27,
   "metadata": {},
   "outputs": [],
   "source": [
    "dates = ['2020-03-28', '2020-03-29', '2020-03-30', '2020-03-31',\n",
    "        '2020-04-01', '2020-04-02', '2020-04-03', '2020-04-04',\n",
    "        '2020-04-05', '2020-04-06', '2020-04-07', '2020-04-08',\n",
    "         '2020-04-09', '2020-04-10']\n",
    "dates=dates[:3]\n",
    "top_users_display = 10\n",
    "filter_by_top_cluster = True\n",
    "top_clusters_display=10\n",
    "param_subset=False\n",
    "param_n_subset=1000"
   ]
  },
  {
   "cell_type": "code",
   "execution_count": null,
   "metadata": {
    "scrolled": false
   },
   "outputs": [
    {
     "name": "stdout",
     "output_type": "stream",
     "text": [
      "Range of dates: ['2020-03-28', '2020-03-29', '2020-03-30']\n",
      "Date:  2020-03-28\n"
     ]
    }
   ],
   "source": [
    "if __name__=='__main__':\n",
    "    df_dict = load_folder_as_dict(dates, prefix='../data/', subset=param_subset, n_subset=param_n_subset)\n",
    "    l_common = get_common_users_with_most_connected_component(df_dict)\n",
    "    df_dict = filter_dataframe_by_common_users(df_dict, l_common)\n",
    "    graph_dict = define_graphs(df_dict)\n",
    "    print('Range of dates:', dates)\n",
    "\n",
    "    for key in list(df_dict.keys()):\n",
    "        t1 = time.time()\n",
    "        print('Date: ', str(key).split('_')[-1])\n",
    "\n",
    "        df = df_dict[key]\n",
    "        G = graph_dict[key]\n",
    "\n",
    "        #Keep connected component\n",
    "        G, df = get_df_G_connected_comp(G, df)\n",
    "        G_und = G.to_undirected()\n",
    "\n",
    "        #define df_nodes\n",
    "        df_nodes = define_df_nodes(df, G)\n",
    "        \n",
    "        #Reassign top cluster for a better display\n",
    "        if filter_by_top_cluster:\n",
    "            df_nodes = reassign_top_clusters(df_nodes, top_clusters=top_clusters_display)\n",
    "            df_nodes.loc[:, 'cluster_id'] = df_nodes.loc[:, 'new_cluster_id']\n",
    "        savename_nodes  = '../shared_users/processed_data/nodes/' + str(key).split('_')[-1]+'_nodes.csv'\n",
    "        df_nodes.to_csv(savename_nodes,  encoding='utf-8')\n",
    "        \n",
    "        #define df_edges\n",
    "        df_edges = define_df_edges(df, G)\n",
    "        savename_edges  = '../shared_users/processed_data/edges/' + str(key).split('_')[-1]+'_edges.csv'\n",
    "        df_edges.to_csv(savename_edges,  encoding='utf-8')\n",
    "\n",
    "        #define clusters\n",
    "        partition_dict = dict(zip(df_nodes.username, df_nodes.cluster_id))\n",
    "        partition_list = change_format_clustering(partition_dict)\n",
    "    \n",
    "        #define pos (in order to have same positions of nodes)\n",
    "        pos=nx.spring_layout(G_und)\n",
    "    \n",
    "        #define colors (in order to have same colors of clusters)\n",
    "        colors=[]\n",
    "        for i in range(len(partition_list)):\n",
    "            colors.append(cm.Set1(i))\n",
    "        \n",
    "        #compute and save figures according to clustering and (top) most important nodes\n",
    "        savename_clusters  = '../shared_users/visualisation/clusters/' + str(key).split('_')[-1]+'_clusters'\n",
    "        vizualize_from_df(df_nodes, G_und, clusters=partition_list, pos=pos, colors=colors, savename=savename_clusters)\n",
    "        savename_clusters  = '../shared_users/visualisation/betweenness/' + str(key).split('_')[-1]+'_betweenness'\n",
    "        vizualize_from_df_betweenness(df_nodes, G_und, clusters=partition_list, pos=pos, colors=colors, top=top_users_display, savename=savename_clusters)\n",
    "        savename_clusters  = '../shared_users/visualisation/closeness/' + str(key).split('_')[-1]+'_closeness'\n",
    "        vizualize_from_df_closeness(df_nodes, G_und, clusters=partition_list, pos=pos, colors=colors, top=top_users_display, savename=savename_clusters)\n",
    "        savename_clusters  = '../shared_users/visualisation/pagerank/' + str(key).split('_')[-1]+'_pagerank'\n",
    "        vizualize_from_df_pagerank(df_nodes, G_und, clusters=partition_list, pos=pos, colors=colors, top=top_users_display, savename=savename_clusters)\n",
    "        \n",
    "        t2 = time.time()\n",
    "        delta_t = t2-t1\n",
    "        print('Time taken (sec):', delta_t)\n"
   ]
  },
  {
   "cell_type": "code",
   "execution_count": null,
   "metadata": {},
   "outputs": [],
   "source": []
  }
 ],
 "metadata": {
  "kernelspec": {
   "display_name": "Python 3",
   "language": "python",
   "name": "python3"
  },
  "language_info": {
   "codemirror_mode": {
    "name": "ipython",
    "version": 3
   },
   "file_extension": ".py",
   "mimetype": "text/x-python",
   "name": "python",
   "nbconvert_exporter": "python",
   "pygments_lexer": "ipython3",
   "version": "3.7.6"
  }
 },
 "nbformat": 4,
 "nbformat_minor": 4
}
