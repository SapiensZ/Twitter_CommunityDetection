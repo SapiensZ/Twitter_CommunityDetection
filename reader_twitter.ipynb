{
 "cells": [
  {
   "cell_type": "code",
   "execution_count": 209,
   "metadata": {},
   "outputs": [],
   "source": [
    "import tweepy\n",
    "import csv\n",
    "import pandas as pd\n",
    "import time\n",
    "import sys\n",
    "import itertools\n",
    "from datetime import datetime\n",
    "import sys\n",
    "import networkx as nx\n",
    "import plotly as py\n",
    "import plotly.graph_objects as go\n",
    "from plotly.graph_objs import *\n",
    "import matplotlib.pyplot as plt\n",
    "import scipy.sparse as sparse\n",
    "from scipy.stats.stats import pearsonr\n",
    "import community\n",
    "import matplotlib.cm as cm\n",
    "%matplotlib inline"
   ]
  },
  {
   "cell_type": "code",
   "execution_count": 339,
   "metadata": {},
   "outputs": [],
   "source": [
    "import warnings\n",
    "warnings.filterwarnings('ignore')"
   ]
  },
  {
   "cell_type": "code",
   "execution_count": 30,
   "metadata": {},
   "outputs": [],
   "source": [
    "import spacy\n",
    "nlp = spacy.load('fr_core_news_sm')"
   ]
  },
  {
   "cell_type": "code",
   "execution_count": 4,
   "metadata": {},
   "outputs": [],
   "source": [
    "#Twitter API credentials\n",
    "#consumer_key = \"BmvoUUcOUXhPxRR8uRC2TgKoW\"\n",
    "#consumer_secret = \"bNV6inRgeUSSVerytnnnTPveW8iM9GM0dwryZyiUKmYy436D1I\"\n",
    "#access_key = \"2969993776-b9Ui7fVJjW7gYId2C0kSGo5mN4ki93HSGEn6jx0\"\n",
    "#access_secret = \"N5ER33zjeIqfl5918MWTHLWbZzuBGfGL0FeSfNGvSsrvZ\""
   ]
  },
  {
   "cell_type": "code",
   "execution_count": 5,
   "metadata": {},
   "outputs": [],
   "source": [
    "#OAUTH_KEYS = {'consumer_key':consumer_key, 'consumer_secret':consumer_secret, 'access_token_key':access_key, 'access_token_secret':access_secret}\n",
    "#auth = tweepy.OAuthHandler(OAUTH_KEYS['consumer_key'], OAUTH_KEYS['consumer_secret'])\n",
    "#api = tweepy.API(auth, wait_on_rate_limit=True, wait_on_rate_limit_notify=True)"
   ]
  },
  {
   "cell_type": "code",
   "execution_count": 6,
   "metadata": {},
   "outputs": [],
   "source": [
    "def get_names_for_download(dates):\n",
    "    pwd = '/home/b00762654/twitter_None'\n",
    "    for i in range(len(dates) - 1):\n",
    "        csv_name = pwd + '/data_'+ str(dates[i]) + '_' + str(dates[i+1]) + '.csv'\n",
    "        print(csv_name)"
   ]
  },
  {
   "cell_type": "markdown",
   "metadata": {},
   "source": [
    "## Functions"
   ]
  },
  {
   "cell_type": "code",
   "execution_count": 72,
   "metadata": {},
   "outputs": [],
   "source": [
    "#Returns a dict of dataframe with twitter data from folder data/\n",
    "def load_folder_as_dict(dates, prefix='data/', subset=False, n_subset=100):\n",
    "    dict_df = dict()\n",
    "    for i in range(len(dates) - 1):\n",
    "        csv_name = prefix + 'data_'+ str(dates[i]) + '_' + str(dates[i+1]) + '.csv'\n",
    "        df_name = 'df_' + str(dates[i])\n",
    "        df = pd.read_csv(csv_name)\n",
    "        df = df[df.is_retweeted == True]\n",
    "        if subset:\n",
    "            df = df[:n_subset]\n",
    "        dict_df[df_name] = df\n",
    "    return dict_df"
   ]
  },
  {
   "cell_type": "code",
   "execution_count": 441,
   "metadata": {},
   "outputs": [],
   "source": [
    "#Output stats on dataframes --> to do with the whole dataset\n",
    "def get_stats_on_df(dict_df):\n",
    "    l_1 = []\n",
    "    l_2 = []\n",
    "\n",
    "    for key in dict_df.keys():\n",
    "        df = dict_df[key]\n",
    "        l_user_rt = list(df[df.is_retweeted == True].user_retweeted.unique())\n",
    "        l_users = list(df[df.is_retweeted == True].username.unique())\n",
    "        l_tot = l_users.copy()\n",
    "        print('DATE: ', key)\n",
    "        print('Nb unique user retweeted for ', key, ' : ', len(l_user_rt))\n",
    "        print('Nb unique users who tweet for ', key, ' : ', len(l_users))\n",
    "        l_tot.extend(l_user_rt)\n",
    "        print('Nb unique users for ', key, ' : ', len(list(set(l_tot))))\n",
    "        G = define_graph_from_df(df)\n",
    "        G_und = G.to_undirected()\n",
    "        print('Nodes in RT network:', len(G.nodes()))\n",
    "        print('Edges in RT network:', len(G.edges()))\n",
    "        num_of_cc = nx.number_connected_components(G_und)\n",
    "        print(\"Number of connected components: {}\".format(num_of_cc))\n",
    "        # Get the greatest connected component subgraph\n",
    "        gcc_nodes = max(nx.connected_components(G_und), key=len)\n",
    "        gcc = G_und.subgraph(gcc_nodes)\n",
    "        print(\"Number of nodes in GCC: {}\".format(len(gcc_nodes)))\n",
    "        node_fraction = gcc.number_of_nodes() / float(G_und.number_of_nodes())\n",
    "        edge_fraction = gcc.number_of_edges() / float(G_und.number_of_edges())\n",
    "        print(\"Fraction of nodes in GCC: {:.3f}\".format(node_fraction))\n",
    "        print(\"Fraction of edges in GCC: {:.3f}\".format(edge_fraction))\n",
    "        print()\n",
    "        l_1.extend(l_user_rt)\n",
    "        l_2.extend(l_users)\n",
    "    print()\n",
    "    print('Nb of unique users retweeted for al these df :', len(list(set(l_1))))\n",
    "    print('Nb of unique users who tweet for al these df :', len(list(set(l_2))))\n",
    "    return"
   ]
  },
  {
   "cell_type": "code",
   "execution_count": 442,
   "metadata": {},
   "outputs": [],
   "source": [
    "#Returns a directed graph from the datafrmae\n",
    "def define_graph_from_df(df):\n",
    "    G = nx.from_pandas_edgelist(\n",
    "        df,\n",
    "        source = 'username', \n",
    "        target = 'user_retweeted',\n",
    "        create_using = nx.DiGraph())\n",
    "    return G"
   ]
  },
  {
   "cell_type": "code",
   "execution_count": 454,
   "metadata": {},
   "outputs": [],
   "source": [
    "#Returns a dictionnary of directed graphs from a dictionnary of dataframe\n",
    "def define_graphs(dict_df):\n",
    "    graph_dict = dict()\n",
    "    for key in dict_df.keys():\n",
    "        graph_dict[key] = define_graph_from_df(dict_df[key])\n",
    "    return graph_dict"
   ]
  },
  {
   "cell_type": "markdown",
   "metadata": {},
   "source": [
    "#### Define dates for which we have data"
   ]
  },
  {
   "cell_type": "code",
   "execution_count": 455,
   "metadata": {},
   "outputs": [],
   "source": [
    "dates = ['2020-03-28', '2020-03-29', '2020-03-30', '2020-03-31',\n",
    "        '2020-04-01', '2020-04-02', '2020-04-03', '2020-04-04',\n",
    "        '2020-04-05', '2020-04-06']"
   ]
  },
  {
   "cell_type": "markdown",
   "metadata": {},
   "source": [
    "## Stats on whole data"
   ]
  },
  {
   "cell_type": "code",
   "execution_count": 456,
   "metadata": {},
   "outputs": [],
   "source": [
    "df_dict = load_folder_as_dict(dates, prefix='data/')"
   ]
  },
  {
   "cell_type": "code",
   "execution_count": 457,
   "metadata": {},
   "outputs": [],
   "source": [
    "graph_dict = define_graphs(df_dict)"
   ]
  },
  {
   "cell_type": "code",
   "execution_count": 458,
   "metadata": {},
   "outputs": [
    {
     "name": "stdout",
     "output_type": "stream",
     "text": [
      "DATE:  df_2020-03-28\n",
      "Nb unique user retweeted for  df_2020-03-28  :  598\n",
      "Nb unique users who tweet for  df_2020-03-28  :  7737\n",
      "Nb unique users for  df_2020-03-28  :  8285\n",
      "Nodes in RT network: 8285\n",
      "Edges in RT network: 8321\n",
      "Number of connected components: 376\n",
      "Number of nodes in GCC: 6951\n",
      "Fraction of nodes in GCC: 0.839\n",
      "Fraction of edges in GCC: 0.882\n",
      "\n",
      "DATE:  df_2020-03-29\n",
      "Nb unique user retweeted for  df_2020-03-29  :  529\n",
      "Nb unique users who tweet for  df_2020-03-29  :  5486\n",
      "Nb unique users for  df_2020-03-29  :  5964\n",
      "Nodes in RT network: 5964\n",
      "Edges in RT network: 6110\n",
      "Number of connected components: 315\n",
      "Number of nodes in GCC: 4922\n",
      "Fraction of nodes in GCC: 0.825\n",
      "Fraction of edges in GCC: 0.877\n",
      "\n",
      "DATE:  df_2020-03-30\n",
      "Nb unique user retweeted for  df_2020-03-30  :  706\n",
      "Nb unique users who tweet for  df_2020-03-30  :  6207\n",
      "Nb unique users for  df_2020-03-30  :  6845\n",
      "Nodes in RT network: 6845\n",
      "Edges in RT network: 6835\n",
      "Number of connected components: 430\n",
      "Number of nodes in GCC: 5315\n",
      "Fraction of nodes in GCC: 0.776\n",
      "Fraction of edges in GCC: 0.836\n",
      "\n",
      "DATE:  df_2020-03-31\n",
      "Nb unique user retweeted for  df_2020-03-31  :  678\n",
      "Nb unique users who tweet for  df_2020-03-31  :  5789\n",
      "Nb unique users for  df_2020-03-31  :  6404\n",
      "Nodes in RT network: 6404\n",
      "Edges in RT network: 6240\n",
      "Number of connected components: 446\n",
      "Number of nodes in GCC: 4794\n",
      "Fraction of nodes in GCC: 0.749\n",
      "Fraction of edges in GCC: 0.810\n",
      "\n",
      "DATE:  df_2020-04-01\n",
      "Nb unique user retweeted for  df_2020-04-01  :  671\n",
      "Nb unique users who tweet for  df_2020-04-01  :  4979\n",
      "Nb unique users for  df_2020-04-01  :  5591\n",
      "Nodes in RT network: 5591\n",
      "Edges in RT network: 5382\n",
      "Number of connected components: 463\n",
      "Number of nodes in GCC: 4069\n",
      "Fraction of nodes in GCC: 0.728\n",
      "Fraction of edges in GCC: 0.799\n",
      "\n",
      "DATE:  df_2020-04-02\n",
      "Nb unique user retweeted for  df_2020-04-02  :  702\n",
      "Nb unique users who tweet for  df_2020-04-02  :  4678\n",
      "Nb unique users for  df_2020-04-02  :  5312\n",
      "Nodes in RT network: 5312\n",
      "Edges in RT network: 5149\n",
      "Number of connected components: 477\n",
      "Number of nodes in GCC: 3500\n",
      "Fraction of nodes in GCC: 0.659\n",
      "Fraction of edges in GCC: 0.735\n",
      "\n",
      "DATE:  df_2020-04-03\n",
      "Nb unique user retweeted for  df_2020-04-03  :  687\n",
      "Nb unique users who tweet for  df_2020-04-03  :  5467\n",
      "Nb unique users for  df_2020-04-03  :  6095\n",
      "Nodes in RT network: 6095\n",
      "Edges in RT network: 6096\n",
      "Number of connected components: 442\n",
      "Number of nodes in GCC: 4485\n",
      "Fraction of nodes in GCC: 0.736\n",
      "Fraction of edges in GCC: 0.805\n",
      "\n",
      "DATE:  df_2020-04-04\n",
      "Nb unique user retweeted for  df_2020-04-04  :  512\n",
      "Nb unique users who tweet for  df_2020-04-04  :  4069\n",
      "Nb unique users for  df_2020-04-04  :  4538\n",
      "Nodes in RT network: 4538\n",
      "Edges in RT network: 4313\n",
      "Number of connected components: 366\n",
      "Number of nodes in GCC: 2933\n",
      "Fraction of nodes in GCC: 0.646\n",
      "Fraction of edges in GCC: 0.708\n",
      "\n",
      "DATE:  df_2020-04-05\n",
      "Nb unique user retweeted for  df_2020-04-05  :  543\n",
      "Nb unique users who tweet for  df_2020-04-05  :  9560\n",
      "Nb unique users for  df_2020-04-05  :  10055\n",
      "Nodes in RT network: 10055\n",
      "Edges in RT network: 10720\n",
      "Number of connected components: 334\n",
      "Number of nodes in GCC: 9034\n",
      "Fraction of nodes in GCC: 0.898\n",
      "Fraction of edges in GCC: 0.934\n",
      "\n",
      "\n",
      "Nb of unique users retweeted for al these df : 2637\n",
      "Nb of unique users who tweet for al these df : 39568\n"
     ]
    }
   ],
   "source": [
    "get_stats_on_df(df_dict)"
   ]
  },
  {
   "cell_type": "markdown",
   "metadata": {},
   "source": [
    "#### Define dictionaries of dataframes and graphs with subset for testing"
   ]
  },
  {
   "cell_type": "code",
   "execution_count": 448,
   "metadata": {},
   "outputs": [],
   "source": [
    "df_dict = load_folder_as_dict(dates, prefix='data/', subset=True)"
   ]
  },
  {
   "cell_type": "code",
   "execution_count": 449,
   "metadata": {},
   "outputs": [],
   "source": [
    "graph_dict = define_graphs(df_dict)"
   ]
  },
  {
   "cell_type": "markdown",
   "metadata": {},
   "source": [
    "#### Call a dataframe and graph according to a key"
   ]
  },
  {
   "cell_type": "code",
   "execution_count": 450,
   "metadata": {},
   "outputs": [
    {
     "name": "stdout",
     "output_type": "stream",
     "text": [
      "df_2020-03-28\n"
     ]
    }
   ],
   "source": [
    "key = list(df_dict.keys())[0]\n",
    "print(key)"
   ]
  },
  {
   "cell_type": "code",
   "execution_count": 451,
   "metadata": {},
   "outputs": [],
   "source": [
    "df = df_dict[key]\n",
    "G = graph_dict[key]\n",
    "G_und = G.to_undirected()"
   ]
  },
  {
   "cell_type": "code",
   "execution_count": 452,
   "metadata": {},
   "outputs": [],
   "source": [
    "#Returns the max connected component in graph and dataframe format\n",
    "def get_df_G_connected_comp(G, df):\n",
    "    G_und = G.to_undirected()\n",
    "    gcc_nodes = max(nx.connected_components(G_und), key=len)\n",
    "    df = df[(df.username.isin(list(gcc_nodes))) | (df.user_retweeted.isin(list(gcc_nodes)))]\n",
    "    gcc = define_graph_from_df(df)\n",
    "    return gcc, df"
   ]
  },
  {
   "cell_type": "code",
   "execution_count": 459,
   "metadata": {},
   "outputs": [],
   "source": [
    "#Returns a list of dataframes with connected components from the inital one (UNUSED)\n",
    "#Use it if you want to analyse different connected component inside 1 day\n",
    "def split_by_connected_components(G, df, limit=5):\n",
    "    G_und = G.to_undirected()\n",
    "    subdf_sorted = list()\n",
    "    gcc_nodes = max(nx.connected_components(G_und), key=len)\n",
    "    while len(gcc_nodes) > limit:\n",
    "        df_res = df[(df.username.isin(list(gcc_nodes))) | (df.user_retweeted.isin(list(gcc_nodes)))]\n",
    "        subdf_sorted.append(df_res)\n",
    "        print(subdf_sorted[-1].shape)\n",
    "        G_und.remove_nodes_from(gcc_nodes)\n",
    "        gcc_nodes = max(nx.connected_components(G_und), key=len)\n",
    "    return subdf_sorted"
   ]
  },
  {
   "cell_type": "code",
   "execution_count": 376,
   "metadata": {},
   "outputs": [
    {
     "name": "stdout",
     "output_type": "stream",
     "text": [
      "Nb of connected components: 34\n"
     ]
    }
   ],
   "source": [
    "G, df = get_df_G_connected_comp(G, df)\n",
    "G_und = G.to_undirected()"
   ]
  },
  {
   "cell_type": "markdown",
   "metadata": {},
   "source": [
    "## Nodes Information"
   ]
  },
  {
   "cell_type": "code",
   "execution_count": 460,
   "metadata": {},
   "outputs": [],
   "source": [
    "#Return dictionnary of degree centrality for each node\n",
    "def compute_degree_centrality(G):\n",
    "    degree_centrality = {}\n",
    "    for node in G.nodes():\n",
    "        degree_centrality[node] = [G.degree(node),  G.in_degree(node), G.out_degree(node)]\n",
    "    return degree_centrality"
   ]
  },
  {
   "cell_type": "code",
   "execution_count": 463,
   "metadata": {},
   "outputs": [],
   "source": [
    "#Feature Engineering of nodes\n",
    "#Louvain Clustering is included in that dataframe!\n",
    "def define_df_nodes(df, G):\n",
    "    \n",
    "    df_nodes = df[df.is_retweeted == True]\n",
    "    df_nodes.loc[:, 'count_rt_day'] = df_nodes.groupby('user_retweeted').user_retweeted.transform('count')\n",
    "    df_nodes.loc[:, 'count_t_day'] = df_nodes.groupby('username').username.transform('count')\n",
    "\n",
    "    df_nodes_1 = df_nodes[['user_retweeted', 'count_rt_day']].drop_duplicates()\n",
    "    df_nodes_1.columns = ['username', 'count_rt_day']\n",
    "    df_nodes_2 = df_nodes[['username', 'count_t_day']].drop_duplicates()\n",
    "    \n",
    "    df = pd.merge(df_nodes_1, df_nodes_2, on='username', how='outer')\n",
    "    #compute closeness centrality for each nodes\n",
    "    df_closeness = pd.DataFrame(nx.closeness_centrality(G).items(), columns=['username', 'closeness_centrality'])\n",
    "    #compute harmonic centrality for each nodes\n",
    "    df_harmonic = pd.DataFrame(nx.harmonic_centrality(G).items(), columns=['username', 'harmonic_centrality'])\n",
    "    #compute betweenness centrality for each nodes\n",
    "    df_betweenness = pd.DataFrame(nx.betweenness_centrality(G).items(), columns=['username', 'betweenness_centrality'])\n",
    "    #comput the degree centrality for each nodes\n",
    "    df_degree = pd.DataFrame(compute_degree_centrality(G)).T.reset_index()\n",
    "    df_degree.columns = ['username', 'degree', 'in_degree', 'out_degree']  \n",
    "    #computer pagerank importance\n",
    "    df_pagerank = pd.DataFrame(nx.pagerank(G, alpha=0.9).items(), columns=['username', 'pagerank_value'])\n",
    "    \n",
    "    #define cluster_id according to Louvain method\n",
    "    G_und = G.to_undirected()\n",
    "    partition = community.best_partition(G_und)\n",
    "    df_clusters = pd.DataFrame(partition.items(), columns=['username', 'cluster_id'])\n",
    "    \n",
    "    \n",
    "    df = pd.merge(df, df_closeness, on='username', how='outer')\n",
    "    df = pd.merge(df, df_harmonic, on='username', how='outer')\n",
    "    df = pd.merge(df, df_degree, on='username', how='outer')\n",
    "    df = pd.merge(df, df_betweenness, on='username', how='outer')\n",
    "    df = pd.merge(df, df_pagerank, on='username', how='outer')\n",
    "    df = pd.merge(df, df_clusters, on='username', how='outer')\n",
    "    \n",
    "    df.loc[:, 'modularity'] = community.modularity(partition, G_und)\n",
    "    \n",
    "    df.fillna(0, inplace=True)\n",
    "    \n",
    "    return df"
   ]
  },
  {
   "cell_type": "code",
   "execution_count": 464,
   "metadata": {},
   "outputs": [],
   "source": [
    "df_nodes = define_df_nodes(df, G)"
   ]
  },
  {
   "cell_type": "code",
   "execution_count": 465,
   "metadata": {},
   "outputs": [],
   "source": [
    "#df_nodes.sort_values('count_rt_day', ascending=False).head(10)"
   ]
  },
  {
   "cell_type": "markdown",
   "metadata": {},
   "source": [
    "## Edges Information"
   ]
  },
  {
   "cell_type": "code",
   "execution_count": 462,
   "metadata": {},
   "outputs": [],
   "source": [
    "#Feature Engineering of Edges\n",
    "def define_df_edges(df, G):\n",
    "    df_edges = df[['username', 'user_retweeted', 'timestamp', 'count_rt', 'text']].copy()\n",
    "    df_edges.loc[:, 'count_rt_day'] = df_edges.groupby('user_retweeted').user_retweeted.transform('count')\n",
    "    df_edges.loc[:, 'count_t_day'] = df_edges.groupby('username').username.transform('count')\n",
    "    \n",
    "    df_edges.loc[:, 'count_t_day'] = df_edges.groupby('username').username.transform('count')\n",
    "    \n",
    "    return df_edges"
   ]
  },
  {
   "cell_type": "code",
   "execution_count": 382,
   "metadata": {},
   "outputs": [],
   "source": [
    "df_edges = define_df_edges(df, G)"
   ]
  },
  {
   "cell_type": "code",
   "execution_count": 383,
   "metadata": {},
   "outputs": [],
   "source": [
    "#df_edges.sort_values('count_t_day', ascending=False).head(10)"
   ]
  },
  {
   "cell_type": "markdown",
   "metadata": {},
   "source": [
    "## Clustering And Visualization"
   ]
  },
  {
   "cell_type": "markdown",
   "metadata": {},
   "source": [
    "Two type of partition format:\n",
    "- list format : [{nodeset_cluster1}, {nodeset_cluster2}, ...]\n",
    "- dict format: {node1:cluser_id1, node2:cluster_id2 ...}"
   ]
  },
  {
   "cell_type": "code",
   "execution_count": 466,
   "metadata": {},
   "outputs": [],
   "source": [
    "from sklearn.cluster import SpectralClustering\n",
    "from sklearn.cluster import KMeans"
   ]
  },
  {
   "cell_type": "code",
   "execution_count": 467,
   "metadata": {},
   "outputs": [],
   "source": [
    "#Less efficient than louvain clustering\n",
    "def spectral_clustering(G, k=2):\n",
    "    nodelist = list(G)\n",
    "    adj_mat = nx.to_numpy_matrix(G)\n",
    "    sc = SpectralClustering(k, affinity='precomputed', n_init=100, )\n",
    "    sc.fit(adj_mat)\n",
    "\n",
    "    labels = sc.labels_\n",
    "    \n",
    "    partition = [set() for _ in range(k)]\n",
    "    for i in range(len(nodelist)):\n",
    "        partition[labels[i]].add(nodelist[i])\n",
    "        \n",
    "    return partition"
   ]
  },
  {
   "cell_type": "code",
   "execution_count": 386,
   "metadata": {},
   "outputs": [],
   "source": [
    "def louvain_clustering(G):\n",
    "    G_und = G.to_undirected()\n",
    "    partition = community.best_partition(G_und)\n",
    "    keys = list(set(partition.values()))\n",
    "    data = {key: [] for key in keys}\n",
    "    for node, commId in partition.items():\n",
    "        data[commId].append(node)\n",
    "    part_fin = []\n",
    "    for nodeset in data.values():\n",
    "        part_fin.append(set(nodeset))\n",
    "    return part_fin"
   ]
  },
  {
   "cell_type": "code",
   "execution_count": 387,
   "metadata": {},
   "outputs": [],
   "source": [
    "def visualize_clusters(G, partition):\n",
    "    colors=[]\n",
    "    plt.figure(figsize=(15,10))\n",
    "    for i in range(len(partition)):\n",
    "        colors.append(cm.Set1(i))\n",
    "    l_labels = []\n",
    "    pos=nx.spring_layout(G) # positions for all nodes\n",
    "    \n",
    "    for commId, nodeset in enumerate(partition):\n",
    "        nx.draw_networkx_nodes(G, pos, nodelist=nodeset, node_color=colors[commId],\n",
    "                               node_size=100, alpha=0.4)\n",
    "    \n",
    "        nx.draw_networkx_labels(G, pos)\n",
    "    nx.draw_networkx_edges(G, pos, alpha=0.5)\n",
    "    plt.savefig('test')\n",
    "    plt.show()"
   ]
  },
  {
   "cell_type": "code",
   "execution_count": 388,
   "metadata": {},
   "outputs": [],
   "source": [
    "def compute_modularity(G, partition):\n",
    "    G_und = G.to_undirected()\n",
    "    dict_partition = dict()\n",
    "    for i in range(len(partition)):\n",
    "        for node in partition[i]:\n",
    "            dict_partition[node] = i\n",
    "    modularity = community.modularity(dict_partition, G_und)\n",
    "    return modularity"
   ]
  },
  {
   "cell_type": "code",
   "execution_count": 389,
   "metadata": {},
   "outputs": [],
   "source": [
    "def filter_communities_with_limit(partition, limit_agg=10):\n",
    "    new_part = []\n",
    "    nodes_without_com = []\n",
    "    for i in range(len(part)):\n",
    "        if len(part[i]) > limit_agg:\n",
    "            new_part.append(part[i])\n",
    "        else:\n",
    "            nodes_without_com += list(part[i])\n",
    "    new_part.append(set(nodes_without_com))\n",
    "    return new_part"
   ]
  },
  {
   "cell_type": "code",
   "execution_count": 390,
   "metadata": {},
   "outputs": [],
   "source": [
    "#Two type of clustering format (see above), returns list format from dict format\n",
    "def change_format_clustering(partition_dict):\n",
    "    keys = list(set(partition_dict.values()))\n",
    "    data = {key: [] for key in keys}\n",
    "    for node, commId in partition_dict.items():\n",
    "        data[commId].append(node)\n",
    "    part_fin = []\n",
    "    for nodeset in data.values():\n",
    "        part_fin.append(set(nodeset))\n",
    "    return part_fin"
   ]
  },
  {
   "cell_type": "code",
   "execution_count": 391,
   "metadata": {},
   "outputs": [],
   "source": [
    "def vizualize_from_df(df, G):\n",
    "    G_und = G.to_undirected(G)\n",
    "    partition_dict = dict(zip(df_nodes.username, df_nodes.cluster_id))\n",
    "    partition_list = change_format_clustering(partition_dict)\n",
    "    return visualize_clusters(G_und, partition_list)"
   ]
  },
  {
   "cell_type": "code",
   "execution_count": 392,
   "metadata": {},
   "outputs": [
    {
     "name": "stderr",
     "output_type": "stream",
     "text": [
      "WARNING:matplotlib.axes._axes:'c' argument looks like a single numeric RGB or RGBA sequence, which should be avoided as value-mapping will have precedence in case its length matches with 'x' & 'y'.  Please use a 2-D array with a single row if you really want to specify the same RGB or RGBA value for all points.\n",
      "WARNING:matplotlib.axes._axes:'c' argument looks like a single numeric RGB or RGBA sequence, which should be avoided as value-mapping will have precedence in case its length matches with 'x' & 'y'.  Please use a 2-D array with a single row if you really want to specify the same RGB or RGBA value for all points.\n"
     ]
    },
    {
     "data": {
      "image/png": "[encoded data removed]",
      "text/plain": [
       "<Figure size 1080x720 with 1 Axes>"
      ]
     },
     "metadata": {},
     "output_type": "display_data"
    }
   ],
   "source": [
    "vizualize_from_df(df, G)"
   ]
  },
  {
   "cell_type": "code",
   "execution_count": 268,
   "metadata": {},
   "outputs": [],
   "source": [
    "def main():\n",
    "    return"
   ]
  },
  {
   "cell_type": "code",
   "execution_count": 269,
   "metadata": {},
   "outputs": [],
   "source": [
    "if __name__ == '__main__':\n",
    "    main()"
   ]
  },
  {
   "cell_type": "code",
   "execution_count": null,
   "metadata": {},
   "outputs": [],
   "source": []
  }
 ],
 "metadata": {
  "kernelspec": {
   "display_name": "Python 3",
   "language": "python",
   "name": "python3"
  },
  "language_info": {
   "codemirror_mode": {
    "name": "ipython",
    "version": 3
   },
   "file_extension": ".py",
   "mimetype": "text/x-python",
   "name": "python",
   "nbconvert_exporter": "python",
   "pygments_lexer": "ipython3",
   "version": "3.7.6"
  }
 },
 "nbformat": 4,
 "nbformat_minor": 4
}
