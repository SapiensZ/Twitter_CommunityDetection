{
 "cells": [
  {
   "cell_type": "code",
   "execution_count": 1,
   "metadata": {},
   "outputs": [],
   "source": [
    "import tweepy\n",
    "import csv\n",
    "import pandas as pd\n",
    "import time\n",
    "import sys\n",
    "import itertools\n",
    "from datetime import datetime\n",
    "import sys\n",
    "import networkx as nx\n",
    "import plotly as py\n",
    "import plotly.graph_objects as go\n",
    "from plotly.graph_objs import *\n",
    "import matplotlib.pyplot as plt\n",
    "%matplotlib inline"
   ]
  },
  {
   "cell_type": "code",
   "execution_count": 2,
   "metadata": {},
   "outputs": [],
   "source": [
    "#Twitter API credentials\n",
    "consumer_key = \"BmvoUUcOUXhPxRR8uRC2TgKoW\"\n",
    "consumer_secret = \"bNV6inRgeUSSVerytnnnTPveW8iM9GM0dwryZyiUKmYy436D1I\"\n",
    "access_key = \"2969993776-b9Ui7fVJjW7gYId2C0kSGo5mN4ki93HSGEn6jx0\"\n",
    "access_secret = \"N5ER33zjeIqfl5918MWTHLWbZzuBGfGL0FeSfNGvSsrvZ\""
   ]
  },
  {
   "cell_type": "code",
   "execution_count": 3,
   "metadata": {},
   "outputs": [],
   "source": [
    "OAUTH_KEYS = {'consumer_key':consumer_key, 'consumer_secret':consumer_secret, 'access_token_key':access_key, 'access_token_secret':access_secret}\n",
    "auth = tweepy.OAuthHandler(OAUTH_KEYS['consumer_key'], OAUTH_KEYS['consumer_secret'])\n",
    "api = tweepy.API(auth, wait_on_rate_limit=True, wait_on_rate_limit_notify=True)"
   ]
  },
  {
   "cell_type": "code",
   "execution_count": 2,
   "metadata": {},
   "outputs": [],
   "source": [
    "def get_names_for_download(dates):\n",
    "    pwd = '/home/b00762654/twitter_None'\n",
    "    for i in range(len(dates) - 1):\n",
    "        csv_name = pwd + '/data_'+ str(dates[i]) + '_' + str(dates[i+1]) + '.csv'\n",
    "        print(csv_name)"
   ]
  },
  {
   "cell_type": "markdown",
   "metadata": {},
   "source": [
    "## Functions"
   ]
  },
  {
   "cell_type": "code",
   "execution_count": 3,
   "metadata": {},
   "outputs": [],
   "source": [
    "def load_folder_as_dict(dates, prefix='data_10000/'):\n",
    "    dict_df = dict()\n",
    "    for i in range(len(dates) - 1):\n",
    "        csv_name = prefix + 'data_'+ str(dates[i]) + '_' + str(dates[i+1]) + '.csv'\n",
    "        df_name = 'df_' + str(dates[i])\n",
    "        dict_df[df_name] = pd.read_csv(csv_name)\n",
    "    return dict_df"
   ]
  },
  {
   "cell_type": "code",
   "execution_count": 75,
   "metadata": {},
   "outputs": [],
   "source": [
    "def get_stats_on_df(dict_df):\n",
    "    l_1 = []\n",
    "    l_2 = []\n",
    "\n",
    "    for key in dict_df.keys():\n",
    "        df = dict_df[key]\n",
    "        l_user_rt = df[df.is_retweeted == True].user_retweeted.unique()\n",
    "        l_users = df[df.is_retweeted == True].username.unique()\n",
    "        print('Nb unique user retweeted for ', key, ' : ', len(l_user_rt))\n",
    "        print('Nb unique users for ', key, ' : ', len(l_users))\n",
    "        print()\n",
    "        l_1.extend(l_user_rt)\n",
    "        l_2.extend(l_users)\n",
    "\n",
    "    print()\n",
    "    print('Nb of unique users retweeted for al these df :', len(list(set(l_1))))\n",
    "    print('Nb of unique users who tweet for al these df :', len(list(set(l_2))))\n",
    "    return"
   ]
  },
  {
   "cell_type": "markdown",
   "metadata": {},
   "source": [
    "## Loading with No limit"
   ]
  },
  {
   "cell_type": "code",
   "execution_count": 76,
   "metadata": {},
   "outputs": [],
   "source": [
    "dates = ['2020-03-28', '2020-03-29', '2020-03-30', '2020-03-31',\n",
    "        '2020-04-01', '2020-04-02', '2020-04-03']"
   ]
  },
  {
   "cell_type": "code",
   "execution_count": 77,
   "metadata": {},
   "outputs": [],
   "source": [
    "dict_df_no_limit = load_folder_as_dict(dates, prefix='data_No_limit/')"
   ]
  },
  {
   "cell_type": "code",
   "execution_count": 78,
   "metadata": {},
   "outputs": [
    {
     "name": "stdout",
     "output_type": "stream",
     "text": [
      "Nb unique user retweeted for  df_2020-03-28  :  598\n",
      "Nb unique users for  df_2020-03-28  :  7737\n",
      "\n",
      "Nb unique user retweeted for  df_2020-03-29  :  529\n",
      "Nb unique users for  df_2020-03-29  :  5486\n",
      "\n",
      "Nb unique user retweeted for  df_2020-03-30  :  706\n",
      "Nb unique users for  df_2020-03-30  :  6207\n",
      "\n",
      "Nb unique user retweeted for  df_2020-03-31  :  678\n",
      "Nb unique users for  df_2020-03-31  :  5789\n",
      "\n",
      "Nb unique user retweeted for  df_2020-04-01  :  671\n",
      "Nb unique users for  df_2020-04-01  :  4979\n",
      "\n",
      "Nb unique user retweeted for  df_2020-04-02  :  702\n",
      "Nb unique users for  df_2020-04-02  :  4678\n",
      "\n",
      "\n",
      "Nb of unique users retweeted for al these df : 2089\n",
      "Nb of unique users who tweet for al these df : 27921\n"
     ]
    }
   ],
   "source": [
    "get_stats_on_df(dict_df_no_limit)"
   ]
  },
  {
   "cell_type": "markdown",
   "metadata": {},
   "source": [
    "### Let's focus on the No limit dataframes"
   ]
  },
  {
   "cell_type": "code",
   "execution_count": 79,
   "metadata": {},
   "outputs": [],
   "source": [
    "def define_graphs(dict_df):\n",
    "    graph_dict = dict()\n",
    "    for key in dict_df.keys():\n",
    "        df = dict_df[key]\n",
    "        G = nx.from_pandas_edgelist(\n",
    "            df,\n",
    "            source = 'username', \n",
    "            target = 'user_retweeted',\n",
    "            create_using = nx.DiGraph())\n",
    "        graph_dict[key] = G\n",
    "        print('Nodes in RT network:', len(G.nodes()))\n",
    "        print('Edges in RT network:', len(G.edges()), '\\n')\n",
    "    return graph_dict"
   ]
  },
  {
   "cell_type": "code",
   "execution_count": 80,
   "metadata": {},
   "outputs": [],
   "source": [
    "#Subset for testing\n",
    "#n_sub = 1000\n",
    "#for key in dict_df_no_limit.keys():\n",
    "#    dict_df_no_limit[key] = dict_df_no_limit[key][:n_sub]"
   ]
  },
  {
   "cell_type": "code",
   "execution_count": 81,
   "metadata": {
    "scrolled": true
   },
   "outputs": [
    {
     "name": "stdout",
     "output_type": "stream",
     "text": [
      "Nodes in RT network: 8877\n",
      "Edges in RT network: 9283 \n",
      "\n",
      "Nodes in RT network: 6578\n",
      "Edges in RT network: 7079 \n",
      "\n",
      "Nodes in RT network: 7556\n",
      "Edges in RT network: 8100 \n",
      "\n",
      "Nodes in RT network: 7222\n",
      "Edges in RT network: 7536 \n",
      "\n",
      "Nodes in RT network: 6329\n",
      "Edges in RT network: 6601 \n",
      "\n",
      "Nodes in RT network: 6037\n",
      "Edges in RT network: 6410 \n",
      "\n"
     ]
    }
   ],
   "source": [
    "graph_dict = define_graphs(dict_df_no_limit)"
   ]
  },
  {
   "cell_type": "code",
   "execution_count": 82,
   "metadata": {},
   "outputs": [],
   "source": [
    "def plot_graph(G):\n",
    "    \n",
    "    # Some node-level features\n",
    "    centralScore = nx.betweenness_centrality(G)\n",
    "    inScore = G.in_degree()\n",
    "    outScore = G.out_degree()\n",
    "    # Get a list of all nodeID in ascending order\n",
    "    nodeID = G.nodes.keys()\n",
    "    nodeID = sorted(nodeID)\n",
    "\n",
    "    # Node label information available on hover.\n",
    "    labels = []\n",
    "    for nd in nodeID:\n",
    "        labels.append(nd + \"<br>\" + \"In-retweets: \" + str(inScore[nd]) + \"<br>\" +\n",
    "                      \"Out-retweets: \" + str(outScore[nd]) + \"<br>\" + \"Centrality: \" \n",
    "                      + str(\"%0.3f\" % centralScore[nd]))\n",
    "\n",
    "    # Type of graph layout:\n",
    "    pos=nx.spring_layout(G)\n",
    "    E=[tuple(e) for e in G.edges()]\n",
    "    N=len(labels)\n",
    "    axis=dict(showline=False, # hide axis line, grid, ticklabels and  title\n",
    "              zeroline=False,\n",
    "              showgrid=False,\n",
    "              showticklabels=False,\n",
    "              title=''\n",
    "              )\n",
    "    width=800\n",
    "    height=800\n",
    "    layout=Layout(title= \"Twitter Retweet Network with #confinement in Paris\"+\\\n",
    "                  \"<br> Date : 26/03/2020\",\n",
    "        font= dict(size=12),\n",
    "        showlegend=False,\n",
    "        autosize=False,\n",
    "        width=width,\n",
    "        height=height,\n",
    "        xaxis={'showgrid': False, 'zeroline': False, 'visible': False},\n",
    "        yaxis={'showgrid': False, 'zeroline': False, 'visible': False},\n",
    "        grid=None,\n",
    "        hovermode='closest',\n",
    "        annotations=[\n",
    "               dict(\n",
    "               showarrow=False,\n",
    "                text='This igraph.Graph has the Kamada-Kawai layout',\n",
    "                xref='paper',\n",
    "                yref='paper',\n",
    "                x=0,\n",
    "                y=-0.1,\n",
    "                xanchor='left',\n",
    "                yanchor='bottom',\n",
    "                font=dict(\n",
    "                size=14\n",
    "                )\n",
    "                )\n",
    "            ]\n",
    "        )\n",
    "    Xv=[pos[k][0] for k in G.nodes()]\n",
    "    Yv=[pos[k][1] for k in G.nodes()]\n",
    "    Xed=[]\n",
    "    Yed=[]\n",
    "    for edge in E:\n",
    "        Xed+=[pos[edge[0]][0],pos[edge[1]][0], None]\n",
    "        Yed+=[pos[edge[0]][1],pos[edge[1]][1], None]\n",
    "\n",
    "    trace1=Scatter(x=Xed,\n",
    "                   y=Yed,\n",
    "                   mode='lines',\n",
    "                   line=dict(color='rgb(210,210,210)', width=1),\n",
    "                   hoverinfo='none'\n",
    "                   )\n",
    "    trace2=Scatter(x=Xv,\n",
    "                   y=Yv,\n",
    "                   mode='markers',\n",
    "                   name='net',\n",
    "                   marker=dict(symbol='circle-dot',\n",
    "                                 size=5,\n",
    "                                 color='#01B7EF',\n",
    "                                 line=dict(color='rgb(12,12,90)', width=0.5)\n",
    "                                 ),\n",
    "                   text=labels,\n",
    "                   hoverinfo='text'\n",
    "                   )\n",
    "\n",
    "    #annot=\"Circular Layout\"\n",
    "\n",
    "    data1=[trace1, trace2]\n",
    "    fig1=Figure(data=data1, layout=layout)\n",
    "    fig1['layout']['annotations'][0]['text']=annot\n",
    "    fig1.update_layout({\n",
    "    'plot_bgcolor': 'rgba(0, 0, 0, 0)',\n",
    "    'paper_bgcolor': 'rgba(0, 0, 0, 0)',\n",
    "    })\n",
    "\n",
    "    return fig1"
   ]
  },
  {
   "cell_type": "code",
   "execution_count": 83,
   "metadata": {},
   "outputs": [],
   "source": [
    "key = list(graph_dict.keys())[0]"
   ]
  },
  {
   "cell_type": "code",
   "execution_count": 84,
   "metadata": {},
   "outputs": [],
   "source": [
    "G = graph_dict[key]"
   ]
  },
  {
   "cell_type": "code",
   "execution_count": null,
   "metadata": {},
   "outputs": [],
   "source": [
    "fig = plot_graph(G)\n",
    "fig.show()"
   ]
  },
  {
   "cell_type": "code",
   "execution_count": null,
   "metadata": {},
   "outputs": [],
   "source": []
  }
 ],
 "metadata": {
  "kernelspec": {
   "display_name": "Python 3",
   "language": "python",
   "name": "python3"
  },
  "language_info": {
   "codemirror_mode": {
    "name": "ipython",
    "version": 3
   },
   "file_extension": ".py",
   "mimetype": "text/x-python",
   "name": "python",
   "nbconvert_exporter": "python",
   "pygments_lexer": "ipython3",
   "version": "3.7.6"
  }
 },
 "nbformat": 4,
 "nbformat_minor": 4
}
