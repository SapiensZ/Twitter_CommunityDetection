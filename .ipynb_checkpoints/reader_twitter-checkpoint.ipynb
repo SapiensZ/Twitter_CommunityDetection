{
 "cells": [
  {
   "cell_type": "code",
   "execution_count": 35,
   "metadata": {},
   "outputs": [],
   "source": [
    "import tweepy\n",
    "import csv\n",
    "import pandas as pd\n",
    "import time\n",
    "import sys\n",
    "import itertools"
   ]
  },
  {
   "cell_type": "code",
   "execution_count": 39,
   "metadata": {},
   "outputs": [],
   "source": [
    "#Twitter API credentials\n",
    "consumer_key = \"BmvoUUcOUXhPxRR8uRC2TgKoW\"\n",
    "consumer_secret = \"bNV6inRgeUSSVerytnnnTPveW8iM9GM0dwryZyiUKmYy436D1I\"\n",
    "access_key = \"2969993776-b9Ui7fVJjW7gYId2C0kSGo5mN4ki93HSGEn6jx0\"\n",
    "access_secret = \"N5ER33zjeIqfl5918MWTHLWbZzuBGfGL0FeSfNGvSsrvZ\""
   ]
  },
  {
   "cell_type": "code",
   "execution_count": 40,
   "metadata": {},
   "outputs": [],
   "source": [
    "OAUTH_KEYS = {'consumer_key':consumer_key, 'consumer_secret':consumer_secret, 'access_token_key':access_key, 'access_token_secret':access_secret}\n",
    "auth = tweepy.OAuthHandler(OAUTH_KEYS['consumer_key'], OAUTH_KEYS['consumer_secret'])\n",
    "api = tweepy.API(auth, wait_on_rate_limit=True, wait_on_rate_limit_notify=True)"
   ]
  },
  {
   "cell_type": "markdown",
   "metadata": {},
   "source": [
    "### Loading"
   ]
  },
  {
   "cell_type": "code",
   "execution_count": 10,
   "metadata": {},
   "outputs": [],
   "source": [
    "dates = ['2020-03-27', '2020-03-28', '2020-03-29', '2020-03-30', '2020-03-31',\n",
    "        '2020-04-01', '2020-04-02']"
   ]
  },
  {
   "cell_type": "code",
   "execution_count": 16,
   "metadata": {
    "scrolled": true
   },
   "outputs": [],
   "source": [
    "dict_df = dict()\n",
    "for i in range(len(dates) - 1):\n",
    "    csv_name = 'data_10000/' + 'data_'+ str(dates[i]) + '_' + str(dates[i+1]) + '.csv'\n",
    "    df_name = 'df_' + str(dates[i])\n",
    "    dict_df[df_name] = pd.read_csv(csv_name)"
   ]
  },
  {
   "cell_type": "code",
   "execution_count": 36,
   "metadata": {},
   "outputs": [
    {
     "name": "stdout",
     "output_type": "stream",
     "text": [
      "             timestamp         username  \\\n",
      "0  2020-03-27 23:59:47           Javou6   \n",
      "1  2020-03-27 23:59:23      JudithLearn   \n",
      "2  2020-03-27 23:59:20        Colemos59   \n",
      "3  2020-03-27 23:59:14         BeHumanJ   \n",
      "4  2020-03-27 23:59:12  claireparisjazz   \n",
      "\n",
      "                                                text  is_retweeted  \\\n",
      "0  RT @LachaudB: Ils veulent utiliser le #coronav...          True   \n",
      "1  RT @afpfr: Le #confinement a eu pour conséquen...          True   \n",
      "2  RT @AllanBARTE: Qui aurait pu prévoir ça ? Qui...          True   \n",
      "3  RT @AllanBARTE: Qui aurait pu prévoir ça ? Qui...          True   \n",
      "4  RT @30millionsdamis: 😱😡#OnMarcheSurLaTête‼️A p...          True   \n",
      "\n",
      "    user_retweeted  \n",
      "0         LachaudB  \n",
      "1            afpfr  \n",
      "2       AllanBARTE  \n",
      "3       AllanBARTE  \n",
      "4  30millionsdamis  \n"
     ]
    }
   ],
   "source": [
    "key = list(dict_df.keys())[0]\n",
    "df_test = dict_df[key]\n",
    "print(df_test.head())"
   ]
  },
  {
   "cell_type": "code",
   "execution_count": 37,
   "metadata": {
    "scrolled": true
   },
   "outputs": [],
   "source": [
    "allNames = list(df_test['username'].unique()[:100])\n",
    "allPairs = list(itertools.combinations(allNames, 2))"
   ]
  },
  {
   "cell_type": "code",
   "execution_count": null,
   "metadata": {},
   "outputs": [
    {
     "name": "stderr",
     "output_type": "stream",
     "text": [
      "Rate limit reached. Sleeping for: 893\n"
     ]
    }
   ],
   "source": [
    "a_fol_b_list = []\n",
    "b_fol_a_list = []\n",
    "for a,b in allPairs:\n",
    "    status=api.show_friendship(source_screen_name=str(a), target_screen_name=str(b))\n",
    "    a_fol_b=status[0].following\n",
    "    b_fol_a=status[1].following\n",
    "    a_fol_b_list.append(a_fol_b)\n",
    "    b_fol_a_list.append(b_fol_a)"
   ]
  },
  {
   "cell_type": "code",
   "execution_count": null,
   "metadata": {},
   "outputs": [],
   "source": [
    "df_follows = pd.DataFrame()\n",
    "df_follows['A_B'] = allPairs\n",
    "df_follows['A_fol_B'] = a_fol_b_list\n",
    "df_follows['B_fol_A'] = b_fol_a_list\n",
    "print(df_follows)"
   ]
  },
  {
   "cell_type": "code",
   "execution_count": null,
   "metadata": {},
   "outputs": [],
   "source": []
  },
  {
   "cell_type": "code",
   "execution_count": null,
   "metadata": {},
   "outputs": [],
   "source": [
    "status=api.show_friendship(source_screen_name='ErmannoKilgore', target_screen_name='SamsonHuang4')\n",
    "print(status[0].following, status[1].following)"
   ]
  }
 ],
 "metadata": {
  "kernelspec": {
   "display_name": "Python 3",
   "language": "python",
   "name": "python3"
  },
  "language_info": {
   "codemirror_mode": {
    "name": "ipython",
    "version": 3
   },
   "file_extension": ".py",
   "mimetype": "text/x-python",
   "name": "python",
   "nbconvert_exporter": "python",
   "pygments_lexer": "ipython3",
   "version": "3.7.6"
  }
 },
 "nbformat": 4,
 "nbformat_minor": 4
}
