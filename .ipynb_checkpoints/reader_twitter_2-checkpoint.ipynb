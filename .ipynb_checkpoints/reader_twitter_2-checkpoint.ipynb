{
 "cells": [
  {
   "cell_type": "code",
   "execution_count": 1,
   "metadata": {},
   "outputs": [],
   "source": [
    "import tweepy\n",
    "import csv\n",
    "import pandas as pd\n",
    "import time\n",
    "import sys\n",
    "import itertools\n",
    "from datetime import datetime\n",
    "import sys\n",
    "import networkx as nx\n",
    "import plotly as py\n",
    "import plotly.graph_objects as go\n",
    "from plotly.graph_objs import *\n",
    "import matplotlib.pyplot as plt\n",
    "%matplotlib inline"
   ]
  },
  {
   "cell_type": "code",
   "execution_count": 2,
   "metadata": {},
   "outputs": [],
   "source": [
    "#Twitter API credentials\n",
    "#consumer_key = \"BmvoUUcOUXhPxRR8uRC2TgKoW\"\n",
    "#consumer_secret = \"bNV6inRgeUSSVerytnnnTPveW8iM9GM0dwryZyiUKmYy436D1I\"\n",
    "#access_key = \"2969993776-b9Ui7fVJjW7gYId2C0kSGo5mN4ki93HSGEn6jx0\"\n",
    "#access_secret = \"N5ER33zjeIqfl5918MWTHLWbZzuBGfGL0FeSfNGvSsrvZ\""
   ]
  },
  {
   "cell_type": "code",
   "execution_count": 3,
   "metadata": {},
   "outputs": [],
   "source": [
    "#OAUTH_KEYS = {'consumer_key':consumer_key, 'consumer_secret':consumer_secret, 'access_token_key':access_key, 'access_token_secret':access_secret}\n",
    "#auth = tweepy.OAuthHandler(OAUTH_KEYS['consumer_key'], OAUTH_KEYS['consumer_secret'])\n",
    "#api = tweepy.API(auth, wait_on_rate_limit=True, wait_on_rate_limit_notify=True)"
   ]
  },
  {
   "cell_type": "code",
   "execution_count": 4,
   "metadata": {},
   "outputs": [],
   "source": [
    "def get_names_for_download(dates):\n",
    "    pwd = '/home/b00762654/twitter_None'\n",
    "    for i in range(len(dates) - 1):\n",
    "        csv_name = pwd + '/data_'+ str(dates[i]) + '_' + str(dates[i+1]) + '.csv'\n",
    "        print(csv_name)"
   ]
  },
  {
   "cell_type": "markdown",
   "metadata": {},
   "source": [
    "## Functions"
   ]
  },
  {
   "cell_type": "code",
   "execution_count": 5,
   "metadata": {},
   "outputs": [],
   "source": [
    "def load_folder_as_dict(dates, prefix='data/'):\n",
    "    dict_df = dict()\n",
    "    for i in range(len(dates) - 1):\n",
    "        csv_name = prefix + 'data_'+ str(dates[i]) + '_' + str(dates[i+1]) + '.csv'\n",
    "        df_name = 'df_' + str(dates[i])\n",
    "        dict_df[df_name] = pd.read_csv(csv_name)\n",
    "    return dict_df"
   ]
  },
  {
   "cell_type": "code",
   "execution_count": 6,
   "metadata": {},
   "outputs": [],
   "source": [
    "def get_stats_on_df(dict_df):\n",
    "    l_1 = []\n",
    "    l_2 = []\n",
    "\n",
    "    for key in dict_df.keys():\n",
    "        df = dict_df[key]\n",
    "        l_user_rt = df[df.is_retweeted == True].user_retweeted.unique()\n",
    "        l_users = df[df.is_retweeted == True].username.unique()\n",
    "        print('Nb unique user retweeted for ', key, ' : ', len(l_user_rt))\n",
    "        print('Nb unique users for ', key, ' : ', len(l_users))\n",
    "        print()\n",
    "        l_1.extend(l_user_rt)\n",
    "        l_2.extend(l_users)\n",
    "\n",
    "    print()\n",
    "    print('Nb of unique users retweeted for al these df :', len(list(set(l_1))))\n",
    "    print('Nb of unique users who tweet for al these df :', len(list(set(l_2))))\n",
    "    return"
   ]
  },
  {
   "cell_type": "code",
   "execution_count": 7,
   "metadata": {},
   "outputs": [],
   "source": [
    "def define_graph_from_df(df):\n",
    "    G = nx.from_pandas_edgelist(\n",
    "        df,\n",
    "        source = 'username', \n",
    "        target = 'user_retweeted',\n",
    "        create_using = nx.DiGraph())\n",
    "    return G"
   ]
  },
  {
   "cell_type": "code",
   "execution_count": 8,
   "metadata": {},
   "outputs": [],
   "source": [
    "def define_graphs(dict_df, stats=False):\n",
    "    graph_dict = dict()\n",
    "    for key in dict_df.keys():\n",
    "        graph_dict[key] = define_graph_from_df(dict_df[key])\n",
    "        if stats:\n",
    "            print('Nodes in RT network:', len(G.nodes()))\n",
    "            print('Edges in RT network:', len(G.edges()), '\\n')\n",
    "    return graph_dict"
   ]
  },
  {
   "cell_type": "markdown",
   "metadata": {},
   "source": [
    "#### Define dates for which we have data"
   ]
  },
  {
   "cell_type": "code",
   "execution_count": 9,
   "metadata": {},
   "outputs": [],
   "source": [
    "dates = ['2020-03-28', '2020-03-29', '2020-03-30', '2020-03-31',\n",
    "        '2020-04-01', '2020-04-02', '2020-04-03', '2020-04-04', '2020-04-05', '2020-04-06']"
   ]
  },
  {
   "cell_type": "markdown",
   "metadata": {},
   "source": [
    "#### Define dictionaries of dataframes and graphs"
   ]
  },
  {
   "cell_type": "code",
   "execution_count": 10,
   "metadata": {},
   "outputs": [
    {
     "data": {
      "text/plain": [
       "9"
      ]
     },
     "execution_count": 10,
     "metadata": {},
     "output_type": "execute_result"
    }
   ],
   "source": [
    "df_dict = load_folder_as_dict(dates, prefix='data/')\n",
    "len(df_dict)"
   ]
  },
  {
   "cell_type": "code",
   "execution_count": 11,
   "metadata": {},
   "outputs": [],
   "source": [
    "graph_dict = define_graphs(df_dict)"
   ]
  },
  {
   "cell_type": "markdown",
   "metadata": {},
   "source": [
    "#### Call a dataframe and graph according to a key"
   ]
  },
  {
   "cell_type": "code",
   "execution_count": 12,
   "metadata": {},
   "outputs": [
    {
     "name": "stdout",
     "output_type": "stream",
     "text": [
      "df_2020-03-28\n"
     ]
    },
    {
     "data": {
      "text/html": [
       "<div>\n",
       "<style scoped>\n",
       "    .dataframe tbody tr th:only-of-type {\n",
       "        vertical-align: middle;\n",
       "    }\n",
       "\n",
       "    .dataframe tbody tr th {\n",
       "        vertical-align: top;\n",
       "    }\n",
       "\n",
       "    .dataframe thead th {\n",
       "        text-align: right;\n",
       "    }\n",
       "</style>\n",
       "<table border=\"1\" class=\"dataframe\">\n",
       "  <thead>\n",
       "    <tr style=\"text-align: right;\">\n",
       "      <th></th>\n",
       "      <th>timestamp</th>\n",
       "      <th>username</th>\n",
       "      <th>count_rt</th>\n",
       "      <th>text</th>\n",
       "      <th>is_retweeted</th>\n",
       "      <th>user_retweeted</th>\n",
       "    </tr>\n",
       "  </thead>\n",
       "  <tbody>\n",
       "    <tr>\n",
       "      <td>0</td>\n",
       "      <td>2020-03-28 23:59:40</td>\n",
       "      <td>Galvzerrr</td>\n",
       "      <td>72</td>\n",
       "      <td>RT @NoamCartozo: J'ai encore rêvé d'elle - Il ...</td>\n",
       "      <td>True</td>\n",
       "      <td>NoamCartozo</td>\n",
       "    </tr>\n",
       "    <tr>\n",
       "      <td>1</td>\n",
       "      <td>2020-03-28 23:58:12</td>\n",
       "      <td>SArrow9578</td>\n",
       "      <td>3907</td>\n",
       "      <td>RT @PoliceSynergie: Guet-apens cette nuit cont...</td>\n",
       "      <td>True</td>\n",
       "      <td>PoliceSynergie</td>\n",
       "    </tr>\n",
       "    <tr>\n",
       "      <td>2</td>\n",
       "      <td>2020-03-28 23:58:10</td>\n",
       "      <td>PhilippineGlln</td>\n",
       "      <td>0</td>\n",
       "      <td>Donc soit ça se fait la boule à z, soit ça se ...</td>\n",
       "      <td>False</td>\n",
       "      <td>False</td>\n",
       "    </tr>\n",
       "    <tr>\n",
       "      <td>3</td>\n",
       "      <td>2020-03-28 23:57:37</td>\n",
       "      <td>Rausteen_</td>\n",
       "      <td>72</td>\n",
       "      <td>RT @NoamCartozo: J'ai encore rêvé d'elle - Il ...</td>\n",
       "      <td>True</td>\n",
       "      <td>NoamCartozo</td>\n",
       "    </tr>\n",
       "    <tr>\n",
       "      <td>4</td>\n",
       "      <td>2020-03-28 23:57:27</td>\n",
       "      <td>cyrilboji</td>\n",
       "      <td>114</td>\n",
       "      <td>RT @ScpnCommissaire: Enfin ! les crèches et le...</td>\n",
       "      <td>True</td>\n",
       "      <td>ScpnCommissaire</td>\n",
       "    </tr>\n",
       "  </tbody>\n",
       "</table>\n",
       "</div>"
      ],
      "text/plain": [
       "             timestamp        username  count_rt  \\\n",
       "0  2020-03-28 23:59:40       Galvzerrr        72   \n",
       "1  2020-03-28 23:58:12      SArrow9578      3907   \n",
       "2  2020-03-28 23:58:10  PhilippineGlln         0   \n",
       "3  2020-03-28 23:57:37       Rausteen_        72   \n",
       "4  2020-03-28 23:57:27       cyrilboji       114   \n",
       "\n",
       "                                                text  is_retweeted  \\\n",
       "0  RT @NoamCartozo: J'ai encore rêvé d'elle - Il ...          True   \n",
       "1  RT @PoliceSynergie: Guet-apens cette nuit cont...          True   \n",
       "2  Donc soit ça se fait la boule à z, soit ça se ...         False   \n",
       "3  RT @NoamCartozo: J'ai encore rêvé d'elle - Il ...          True   \n",
       "4  RT @ScpnCommissaire: Enfin ! les crèches et le...          True   \n",
       "\n",
       "    user_retweeted  \n",
       "0      NoamCartozo  \n",
       "1   PoliceSynergie  \n",
       "2            False  \n",
       "3      NoamCartozo  \n",
       "4  ScpnCommissaire  "
      ]
     },
     "execution_count": 12,
     "metadata": {},
     "output_type": "execute_result"
    }
   ],
   "source": [
    "key = list(df_dict.keys())[0]\n",
    "print(key)\n",
    "df = df_dict[key]\n",
    "df.head()"
   ]
  },
  {
   "cell_type": "code",
   "execution_count": 13,
   "metadata": {},
   "outputs": [
    {
     "name": "stdout",
     "output_type": "stream",
     "text": [
      "Nodes in RT network: 8877\n",
      "Edges in RT network: 9283\n"
     ]
    }
   ],
   "source": [
    "# Create retweet network from edgelist\n",
    "G = nx.from_pandas_edgelist(\n",
    "    df,\n",
    "    source = 'username', \n",
    "    target = 'user_retweeted',\n",
    "    create_using = nx.DiGraph())\n",
    "    \n",
    "# Print the number of nodes\n",
    "print('Nodes in RT network:', len(G.nodes()))\n",
    "\n",
    "# Print the number of edges\n",
    "print('Edges in RT network:', len(G.edges()))"
   ]
  },
  {
   "cell_type": "code",
   "execution_count": 14,
   "metadata": {},
   "outputs": [],
   "source": [
    "import networkx as nx\n",
    "from networkx.algorithms.community.centrality import girvan_newman\n",
    "from networkx.algorithms.community.kclique import k_clique_communities\n",
    "import matplotlib.pyplot as plt"
   ]
  },
  {
   "cell_type": "code",
   "execution_count": 15,
   "metadata": {},
   "outputs": [],
   "source": [
    "from networkx import edge_betweenness_centrality\n",
    "from random import random\n",
    "\n",
    "def most_valuable_edge(G):\n",
    "    centrality = edge_betweenness_centrality(G)\n",
    "    max_cent = max(centrality.values())\n",
    "    # Scale the centrality values so they are between 0 and 1,\n",
    "    # and add some random noise.\n",
    "    centrality = {e: c / max_cent for e, c in centrality.items()}\n",
    "    # Add some random noise.\n",
    "    centrality = {e: c + random() for e, c in centrality.items()}\n",
    "    return max(centrality, key=centrality.get)"
   ]
  },
  {
   "cell_type": "code",
   "execution_count": 21,
   "metadata": {},
   "outputs": [],
   "source": [
    "gn_generator = girvan_newman(G, most_valuable_edge)"
   ]
  },
  {
   "cell_type": "code",
   "execution_count": null,
   "metadata": {},
   "outputs": [],
   "source": [
    "from itertools import islice\n",
    "gn_communities = next(islice(gn_generator, 1, None)) # Do 3 iterations only"
   ]
  },
  {
   "cell_type": "code",
   "execution_count": null,
   "metadata": {},
   "outputs": [],
   "source": [
    "type(gn_communities)"
   ]
  },
  {
   "cell_type": "code",
   "execution_count": null,
   "metadata": {},
   "outputs": [],
   "source": [
    "gn_dict_communities = {}\n",
    "\n",
    "for i, c in enumerate(gn_communities):\n",
    "    print (\"Community {}\".format(i))\n",
    "    for node in c:\n",
    "        gn_dict_communities[node] = i + 1\n",
    "        \n",
    "for node in G:\n",
    "    if node not in gn_dict_communities.keys():\n",
    "        gn_dict_communities[node] = -1"
   ]
  },
  {
   "cell_type": "code",
   "execution_count": null,
   "metadata": {},
   "outputs": [],
   "source": [
    "gn_pos = community_layout(G, gn_dict_communities)"
   ]
  },
  {
   "cell_type": "code",
   "execution_count": null,
   "metadata": {},
   "outputs": [],
   "source": [
    "from matplotlib import cm\n",
    "gn_colors = []\n",
    "for node in G.nodes:\n",
    "    gn_colors.append(cm.Set1(gn_dict_communities[node]))"
   ]
  },
  {
   "cell_type": "code",
   "execution_count": null,
   "metadata": {},
   "outputs": [],
   "source": [
    "plt.figure(figsize=(20,20))\n",
    "nx.draw_networkx_nodes(tG, gn_pos, node_color=gn_colors, node_size=20)\n",
    "nx.draw_networkx_edges(tG, gn_pos, alpha=0.05)\n",
    "plt.axis('off')\n",
    "plt.show()"
   ]
  },
  {
   "cell_type": "code",
   "execution_count": null,
   "metadata": {},
   "outputs": [],
   "source": []
  }
 ],
 "metadata": {
  "kernelspec": {
   "display_name": "Python 3",
   "language": "python",
   "name": "python3"
  },
  "language_info": {
   "codemirror_mode": {
    "name": "ipython",
    "version": 3
   },
   "file_extension": ".py",
   "mimetype": "text/x-python",
   "name": "python",
   "nbconvert_exporter": "python",
   "pygments_lexer": "ipython3",
   "version": "3.7.6"
  }
 },
 "nbformat": 4,
 "nbformat_minor": 4
}
